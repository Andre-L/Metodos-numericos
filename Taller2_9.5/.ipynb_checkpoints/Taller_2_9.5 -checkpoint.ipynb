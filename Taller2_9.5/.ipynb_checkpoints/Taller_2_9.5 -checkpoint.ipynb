{
 "cells": [
  {
   "cell_type": "code",
   "execution_count": 1,
   "metadata": {
    "collapsed": true
   },
   "outputs": [],
   "source": [
    "import math\n",
    "import numpy as np\n",
    "import matplotlib.pyplot as ptl\n",
    "#DESPEJANDO X1\n",
    "def grafica1():\n",
    "    x=np.arange(3,6,0.5)\n",
    "    y=(120-10*x)/(-1.1)\n",
    "    z=(174-17.4*x)/(-2)\n",
    "    ptl.plot(x,y,'red')\n",
    "    ptl.plot(x,z,'DeepPink')\n",
    "    ptl.title(\"DESPEJANDO X1\", fontsize = 20)\n",
    "    ptl.grid(True)\n",
    "    ptl.show()\n",
    "    \n",
    "def grafica2():\n",
    "    x=np.arange(7,12,3)\n",
    "    t=(120-1.1*x)/10\n",
    "    r=(174+2*x)/17.4\n",
    "    ptl.plot(x,t,'Blue')\n",
    "    ptl.plot(x,r,'DeepPink')\n",
    "    ptl.title(\"DESPEJANDO X2\", fontsize = 20)\n",
    "    ptl.grid(True)\n",
    "    ptl.show()\n",
    "\n",
    "grafica1()\n",
    "grafica2()"
   ]
  },
  {
   "cell_type": "code",
   "execution_count": null,
   "metadata": {
    "collapsed": true
   },
   "outputs": [],
   "source": []
  }
 ],
 "metadata": {
  "kernelspec": {
   "display_name": "Python 2",
   "language": "python",
   "name": "python2"
  },
  "language_info": {
   "codemirror_mode": {
    "name": "ipython",
    "version": 2
   },
   "file_extension": ".py",
   "mimetype": "text/x-python",
   "name": "python",
   "nbconvert_exporter": "python",
   "pygments_lexer": "ipython2",
   "version": "2.7.10"
  }
 },
 "nbformat": 4,
 "nbformat_minor": 0
}
