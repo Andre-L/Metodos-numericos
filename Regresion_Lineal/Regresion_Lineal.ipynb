{
 "cells": [
  {
   "cell_type": "code",
   "execution_count": 4,
   "metadata": {
    "collapsed": false
   },
   "outputs": [
    {
     "name": "stdout",
     "output_type": "stream",
     "text": [
      "0.0285714285714\n",
      "20.1\n"
     ]
    },
    {
     "data": {
      "image/png": "[encoded data removed]",
      "text/plain": [
       "<matplotlib.figure.Figure at 0x6c6c2f0>"
      ]
     },
     "metadata": {},
     "output_type": "display_data"
    }
   ],
   "source": [
    "import math\n",
    "import numpy as np\n",
    "import matplotlib.pyplot as ptl\n",
    "%matplotlib inline\n",
    "\n",
    "n=20\n",
    "edades=[19,19,23,21,21,21,19,18,20,22,22,21,19,19,20,20,20,21,20,23]\n",
    "\n",
    "i=0\n",
    "suma1=0.0\n",
    "suma2=0.0\n",
    "suma3=0.0\n",
    "suma4=0.0\n",
    "\n",
    "while(i<n):\n",
    "    suma1+=((i+1)*(edades[i]))\n",
    "    suma2+=(i+1)\n",
    "    suma3+=edades[i]\n",
    "    suma4+=(i+1)**2\n",
    "    i+=1\n",
    "    \n",
    "ter1=n*suma1\n",
    "ter2=suma2*suma3\n",
    "ter3=n*suma4\n",
    "ter4=(suma2)**2\n",
    "\n",
    "a1=((ter1)-(ter2))/((ter3)-(ter4))\n",
    "a0=(suma3/n)-(a1*(suma2/n))\n",
    "print a1\n",
    "print a0\n",
    "\n",
    "ptl.title(\"Funcion\")    \n",
    "x=np.arange(-1,21,0.1)\n",
    "y=a0+(a1*x)\n",
    "ptl.plot(edades,'co')\n",
    "ptl.plot(x,y,'r-')\n",
    "ptl.grid(True)\n",
    "ptl.show()"
   ]
  },
  {
   "cell_type": "code",
   "execution_count": null,
   "metadata": {
    "collapsed": true
   },
   "outputs": [],
   "source": []
  }
 ],
 "metadata": {
  "kernelspec": {
   "display_name": "Python 2",
   "language": "python",
   "name": "python2"
  },
  "language_info": {
   "codemirror_mode": {
    "name": "ipython",
    "version": 2
   },
   "file_extension": ".py",
   "mimetype": "text/x-python",
   "name": "python",
   "nbconvert_exporter": "python",
   "pygments_lexer": "ipython2",
   "version": "2.7.10"
  }
 },
 "nbformat": 4,
 "nbformat_minor": 0
}
