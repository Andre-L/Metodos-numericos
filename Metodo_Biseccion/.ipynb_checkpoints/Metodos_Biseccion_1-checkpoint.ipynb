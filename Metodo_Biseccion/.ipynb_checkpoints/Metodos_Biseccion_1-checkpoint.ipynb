{
 "cells": [
  {
   "cell_type": "code",
   "execution_count": 1,
   "metadata": {
    "collapsed": false
   },
   "outputs": [
    {
     "name": "stdout",
     "output_type": "stream",
     "text": [
      "Metodo de Bisección\n",
      "\n",
      "|i      |Xl             |Xu             |Xr             |ErrA       |ErrT       |\n",
      "|-------|---------------|---------------|---------------|-----------|-----------|\n",
      "|0      |0.000000       |1.000000       |0.500000       |100.000000 |11.838858  |\n",
      "|1      |0.500000       |1.000000       |0.750000       |33.333333  |32.241713  |\n",
      "|2      |0.500000       |0.750000       |0.625000       |20.000000  |10.201427  |\n",
      "|3      |0.500000       |0.625000       |0.562500       |11.111111  |0.818715   |\n",
      "|4      |0.562500       |0.625000       |0.593750       |5.263158   |4.691356   |\n",
      "|5      |0.562500       |0.593750       |0.578125       |2.702703   |1.936320   |\n",
      "|6      |0.562500       |0.578125       |0.570312       |1.369863   |0.558802   |\n",
      "|7      |0.562500       |0.570312       |0.566406       |0.689655   |0.129957   |\n",
      "|8      |0.566406       |0.570312       |0.568359       |0.343643   |0.214423   |\n",
      "|9      |0.566406       |0.568359       |0.567383       |0.172117   |0.042233   |\n",
      "|10     |0.566406       |0.567383       |0.566895       |0.086133   |0.043862   |\n",
      "|11     |0.566895       |0.567383       |0.567139       |0.043048   |0.000814   |\n",
      "|12     |0.567139       |0.567383       |0.567261       |0.021519   |0.020709   |\n",
      "|13     |0.567139       |0.567261       |0.567200       |0.010761   |0.009948   |\n",
      "|14     |0.567139       |0.567200       |0.567169       |0.005381   |0.004567   |\n",
      "|15     |0.567139       |0.567169       |0.567154       |0.002690   |0.001876   |\n",
      "|16     |0.567139       |0.567154       |0.567146       |0.001345   |0.000531   |\n",
      "|17     |0.567139       |0.567146       |0.567142       |0.000673   |0.000142   |\n",
      "|18     |0.567142       |0.567146       |0.567144       |0.000336   |0.000195   |\n",
      "|19     |0.567142       |0.567144       |0.567143       |0.000168   |0.000026   |\n",
      "|20     |0.567142       |0.567143       |0.567143       |0.000084   |0.000058   |\n",
      "|21     |0.567143       |0.567143       |0.567143       |0.000042   |0.000016   |\n",
      "|22     |0.567143       |0.567143       |0.567143       |0.000021   |0.000005   |\n",
      "|23     |0.567143       |0.567143       |0.567143       |0.000011   |0.000005   |\n",
      "|24     |0.567143       |0.567143       |0.567143       |0.000005   |0.000000   |\n",
      "|25     |0.567143       |0.567143       |0.567143       |0.000003   |0.000002   |\n"
     ]
    },
    {
     "data": {
      "image/png": "[encoded data removed]",
      "text/plain": [
       "<matplotlib.figure.Figure at 0x6506710>"
      ]
     },
     "metadata": {},
     "output_type": "display_data"
    },
    {
     "data": {
      "image/png": "[encoded data removed]",
      "text/plain": [
       "<matplotlib.figure.Figure at 0x65d0830>"
      ]
     },
     "metadata": {},
     "output_type": "display_data"
    }
   ],
   "source": [
    "import math\n",
    "import numpy as np\n",
    "import matplotlib.pyplot as ptl\n",
    "%matplotlib inline\n",
    "ert=[]\n",
    "era=[]\n",
    "\n",
    "def f(x):\n",
    "    fun=(math.exp(-x))-x\n",
    "    return fun\n",
    "print \"Metodo de Bisección\"\n",
    "print \"\"\n",
    "print \"|%-7s|%-15s|%-15s|%-15s|%-11s|%-11s|\"%(\"i\",\"Xl\",\"Xu\",\"Xr\",\"ErrA\",\"ErrT\")\n",
    "print \"|%-7s|%-15s|%-15s|%-15s|%-11s|%-11s|\"%(\"-------\",\"---------------\",\"---------------\",\"---------------\",\"-----------\",\"-----------\")\n",
    "\n",
    "def met_bis():\n",
    "    global ert\n",
    "    global era\n",
    "    xl=float(0)\n",
    "    xu=float(1)\n",
    "    i=0\n",
    "    real=0.56714329\n",
    "    xr=0\n",
    "    xR=0\n",
    "    erra=float(100)\n",
    "    while(erra>0.000003):\n",
    "        xr=(xl+xu)/(2)\n",
    "        \n",
    "        errt=abs((real-xr)/(real))*100\n",
    "        ert.append(errt)\n",
    "        \n",
    "        erra=abs((xr-xR)/(xr))*100\n",
    "        era.append(erra)\n",
    "        print \"|%-6d |%-14f |%-14f |%-14f |%-10f |%-11f|\"%(i,xl,xu,xr,erra,errt)\n",
    "        if((f(xl)*f(xr))<0):\n",
    "            xu=xr\n",
    "        elif((f(xl)*f(xr))>0):\n",
    "            xl=xr\n",
    "        elif((f(xl)*f(xr))==0):\n",
    "            break\n",
    "        xR=xr\n",
    "        i+=1\n",
    "        \n",
    "def graficar():\n",
    "    global era\n",
    "    global ert\n",
    "    ptl.plot(ert,color='r',linestyle=\"--\",label=\"ErrT Met Biseccion\")\n",
    "    ptl.legend(loc=\"upper right\")\n",
    "    ptl.title(\"Error Relativo\", fontsize = 20)\n",
    "    ptl.show()\n",
    "    \n",
    "    ptl.plot(era,color='b',linestyle=\"-\",label=\"ErrA Met Biseccion\")\n",
    "    ptl.legend(loc=\"upper right\")\n",
    "    ptl.title(\"Error Aproximado\", fontsize = 20)\n",
    "    ptl.show()\n",
    "    \n",
    "\n",
    "met_bis()\n",
    "graficar()\n"
   ]
  },
  {
   "cell_type": "code",
   "execution_count": null,
   "metadata": {
    "collapsed": true
   },
   "outputs": [],
   "source": []
  }
 ],
 "metadata": {
  "kernelspec": {
   "display_name": "Python 2",
   "language": "python",
   "name": "python2"
  },
  "language_info": {
   "codemirror_mode": {
    "name": "ipython",
    "version": 2
   },
   "file_extension": ".py",
   "mimetype": "text/x-python",
   "name": "python",
   "nbconvert_exporter": "python",
   "pygments_lexer": "ipython2",
   "version": "2.7.10"
  }
 },
 "nbformat": 4,
 "nbformat_minor": 0
}
