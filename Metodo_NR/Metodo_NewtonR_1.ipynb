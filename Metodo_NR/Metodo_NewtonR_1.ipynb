{
 "cells": [
  {
   "cell_type": "code",
   "execution_count": 2,
   "metadata": {
    "collapsed": false
   },
   "outputs": [
    {
     "name": "stdout",
     "output_type": "stream",
     "text": [
      "|i      |Xi            |ErrT%      |ErrA       |\n",
      "|-------|--------------|-----------|-----------|\n",
      "|0      |0.000000      |100.000000 |100.000000 |\n",
      "|1      |0.500000      |11.838858  |11.709291  |\n",
      "|2      |0.566311      |0.146751   |0.146729   |\n",
      "|3      |0.567143      |0.000022   |0.000022   |\n",
      "|4      |0.567143      |0.000000   |0.000000   |\n"
     ]
    }
   ],
   "source": [
    "import math\n",
    "\n",
    "Xi=float(0)\n",
    "xi=float(0)\n",
    "i=0\n",
    "cont=float(0)\n",
    "real=0.56714329\n",
    "\n",
    "def f(x):\n",
    "    fun=(math.exp(-x))-x\n",
    "    return fun\n",
    "\n",
    "def df(x):\n",
    "    dfun=(-math.exp(-x))-1\n",
    "    return dfun\n",
    "\n",
    "print \"|%-7s|%-14s|%-11s|%-11s|\"%(\"i\",\"Xi\",\"ErrT%\",\"ErrA\")\n",
    "print \"|%-7s|%-14s|%-11s|%-11s|\"%(\"-------\",\"--------------\",\"-----------\",\"-----------\")\n",
    "\n",
    "while(i<5):\n",
    "    #try:  \n",
    "        g=(math.exp(-i))\n",
    "       \n",
    "        errt=abs((real-xi)/(real))*100\n",
    "        xi=Xi-((f(Xi))/(df(Xi)))\n",
    "        \n",
    "        erra=abs((xi-Xi)/(xi))*100\n",
    "        cont=xi\n",
    "        \n",
    "    #except ZeroDivisionError:\n",
    "        print \"|%-7d|%-14f|%-11f|%-11f|\"%(i,Xi,errt,erra)\n",
    "        Xi=xi\n",
    "        i+=1\n",
    "        \n"
   ]
  },
  {
   "cell_type": "code",
   "execution_count": null,
   "metadata": {
    "collapsed": true
   },
   "outputs": [],
   "source": []
  }
 ],
 "metadata": {
  "kernelspec": {
   "display_name": "Python 2",
   "language": "python",
   "name": "python2"
  },
  "language_info": {
   "codemirror_mode": {
    "name": "ipython",
    "version": 2
   },
   "file_extension": ".py",
   "mimetype": "text/x-python",
   "name": "python",
   "nbconvert_exporter": "python",
   "pygments_lexer": "ipython2",
   "version": "2.7.10"
  }
 },
 "nbformat": 4,
 "nbformat_minor": 0
}
