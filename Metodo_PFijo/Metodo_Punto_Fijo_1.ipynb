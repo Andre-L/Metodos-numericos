{
 "cells": [
  {
   "cell_type": "code",
   "execution_count": 1,
   "metadata": {
    "collapsed": false
   },
   "outputs": [
    {
     "name": "stdout",
     "output_type": "stream",
     "text": [
      "|i      |Xi             |PFijo          |ErrA       |ErrT       |\n",
      "|-------|----------     |---------------|-----------|-----------|\n",
      "|1      |1.000000       |1.000000e+00   |100.000000 |50.000000  |\n",
      "|2      |0.367879       |3.678794e-01   |171.828183 |35.914091  |\n",
      "|3      |0.135335       |6.922006e-01   |46.853639  |27.766607  |\n",
      "|4      |0.049787       |5.004735e-01   |38.309147  |0.094611   |\n",
      "|5      |0.018316       |6.062435e-01   |17.446790  |17.524894  |\n",
      "|6      |0.006738       |5.453958e-01   |11.156623  |8.323457   |\n",
      "|7      |0.002479       |5.796123e-01   |5.903351   |13.735445  |\n",
      "|8      |0.000912       |5.601155e-01   |3.480867   |10.732691  |\n",
      "|9      |0.000335       |5.711431e-01   |1.930804   |12.456268  |\n",
      "|10     |0.000123       |5.648793e-01   |1.108868   |11.485523  |\n"
     ]
    }
   ],
   "source": [
    "import math\n",
    "import numpy as np\n",
    "import matplotlib.pyplot as plt\n",
    "n=0\n",
    "cont=float(0)\n",
    "def f(x):\n",
    "    fun=(math.exp(-x))-x\n",
    "    return fun\n",
    "def h(x):\n",
    "    fun2= (math.exp(-x))\n",
    "    return fun2\n",
    "print \"|%-7s|%-15s|%-15s|%-11s|%-11s|\"%(\"i\",\"Xi\",\"PFijo\",\"ErrA\",\"ErrT\")\n",
    "print \"|%-7s|%-15s|%-11s|%-11s|%-11s|\"%(\"-------\",\"----------\",\"---------------\",\"-----------\",\"-----------\")\n",
    "while(n<10):\n",
    "    g=(math.exp(-cont))\n",
    "    aprox=(math.exp(-n))\n",
    "    err=abs((g-cont)/(g))*100\n",
    "    erra=abs((0.5-g)/(g))*100\n",
    "    cont=g\n",
    "    n+=1\n",
    "    print \"|%-7d|%-15f|%-15e|%-11f|%-11f|\"%(n,aprox,g,err,erra)\n",
    "    \n",
    "x=np.arange(-2,2,0.1)\n",
    "y=np.exp(-x)-x\n",
    "plt.plot(x,y)\n",
    "plt.grid(True)\n",
    "plt.show()"
   ]
  },
  {
   "cell_type": "code",
   "execution_count": null,
   "metadata": {
    "collapsed": true
   },
   "outputs": [],
   "source": []
  },
  {
   "cell_type": "code",
   "execution_count": null,
   "metadata": {
    "collapsed": true
   },
   "outputs": [],
   "source": []
  }
 ],
 "metadata": {
  "kernelspec": {
   "display_name": "Python 2",
   "language": "python",
   "name": "python2"
  },
  "language_info": {
   "codemirror_mode": {
    "name": "ipython",
    "version": 2
   },
   "file_extension": ".py",
   "mimetype": "text/x-python",
   "name": "python",
   "nbconvert_exporter": "python",
   "pygments_lexer": "ipython2",
   "version": "2.7.10"
  }
 },
 "nbformat": 4,
 "nbformat_minor": 0
}
