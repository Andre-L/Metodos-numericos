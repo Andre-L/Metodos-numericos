{
 "cells": [
  {
   "cell_type": "code",
   "execution_count": 1,
   "metadata": {
    "collapsed": true
   },
   "outputs": [],
   "source": [
    "import math\n",
    "import numpy as np\n",
    "import matplotlib.pyplot as ptl\n",
    "\n",
    "def grafica():\n",
    "    x=np.arange(-2,6,0.1)\n",
    "    y=(-3*x/2)+9\n",
    "    z=(x/2)+1\n",
    "    ptl.plot(x,y,'salmon')\n",
    "    ptl.plot(x,z,'dodgerblue')\n",
    "    ptl.grid(True)\n",
    "    ptl.show()\n",
    "\n",
    "grafica()"
   ]
  },
  {
   "cell_type": "code",
   "execution_count": 2,
   "metadata": {
    "collapsed": true
   },
   "outputs": [],
   "source": [
    "#A NO HAY SOLUCION\n",
    "import math\n",
    "import numpy as np\n",
    "import matplotlib.pyplot as ptl\n",
    "\n",
    "def grafica():\n",
    "    x=np.arange(-2,6,0.1)\n",
    "    y=(1*x/2)+1\n",
    "    z=1/2+(x/2)\n",
    "    ptl.plot(x,y,'mediumseagreen')\n",
    "    ptl.plot(x,z,'dodgerblue')\n",
    "    ptl.grid(True)\n",
    "    ptl.show()\n",
    "\n",
    "grafica()"
   ]
  },
  {
   "cell_type": "code",
   "execution_count": null,
   "metadata": {
    "collapsed": true
   },
   "outputs": [],
   "source": [
    "#B INFINIDAD DE SOLUCIONES\n",
    "import math\n",
    "import numpy as np\n",
    "import matplotlib.pyplot as ptl\n",
    "\n",
    "def grafica():\n",
    "    x=np.arange(-2,6,0.1)\n",
    "    y=(1*x/2)+1\n",
    "    z=(2+x)/2\n",
    "    ptl.plot(x,y,'om')\n",
    "    ptl.plot(x,z,'cadetblue')\n",
    "    ptl.grid(True)\n",
    "    ptl.show()\n",
    "\n",
    "grafica()"
   ]
  },
  {
   "cell_type": "code",
   "execution_count": 3,
   "metadata": {
    "collapsed": true
   },
   "outputs": [],
   "source": [
    "#C DIFICIL DETECTAR EL PUNTO DE INTERSECCION\n",
    "import math\n",
    "import numpy as np\n",
    "import matplotlib.pyplot as ptl\n",
    "\n",
    "def grafica():\n",
    "    x=np.arange(-2,4,0.1)\n",
    "    y=1.1+((2.3*x)/5)\n",
    "    z=(1*x/2)+1\n",
    "    ptl.plot(x,y,'tomato')\n",
    "    ptl.plot(x,z,'olive')\n",
    "    ptl.grid(True)\n",
    "    ptl.show()\n",
    "    \n",
    "grafica()"
   ]
  },
  {
   "cell_type": "code",
   "execution_count": null,
   "metadata": {
    "collapsed": true
   },
   "outputs": [],
   "source": []
  }
 ],
 "metadata": {
  "kernelspec": {
   "display_name": "Python 2",
   "language": "python",
   "name": "python2"
  },
  "language_info": {
   "codemirror_mode": {
    "name": "ipython",
    "version": 2
   },
   "file_extension": ".py",
   "mimetype": "text/x-python",
   "name": "python",
   "nbconvert_exporter": "python",
   "pygments_lexer": "ipython2",
   "version": "2.7.10"
  }
 },
 "nbformat": 4,
 "nbformat_minor": 0
}
