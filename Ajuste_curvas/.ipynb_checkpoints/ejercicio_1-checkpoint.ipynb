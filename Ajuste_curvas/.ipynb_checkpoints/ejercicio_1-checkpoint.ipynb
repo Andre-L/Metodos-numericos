{
 "cells": [
  {
   "cell_type": "code",
   "execution_count": 19,
   "metadata": {
    "collapsed": false
   },
   "outputs": [
    {
     "name": "stdout",
     "output_type": "stream",
     "text": [
      "Media = 20.4\n",
      "Desviacion estandar = 1.39170474788\n"
     ]
    }
   ],
   "source": [
    "import math\n",
    "import numpy as np\n",
    "import matplotlib.pyplot as ptl\n",
    "valores=[19,19,23,21,21,21,19,18,20,22,22,21,19,19,20,20,20,21,20,23]\n",
    "n=20\n",
    "suma=0.0\n",
    "i=0\n",
    "while(i<20):\n",
    "    suma+=valores[i]\n",
    "    i+=1\n",
    "xm=suma/20\n",
    "print 'Media = '+str(xm)\n",
    "#####################################\n",
    "j=0\n",
    "st=0.0\n",
    "while(j<20):\n",
    "    rst=((valores[j]-xm)**2)\n",
    "    st+=rst\n",
    "    j+=1\n",
    "#print 'St ='+str(st)\n",
    "print 'Desviacion estandar = ' + str(math.sqrt((st)/(n-1)))\n",
    "\n"
   ]
  },
  {
   "cell_type": "code",
   "execution_count": null,
   "metadata": {
    "collapsed": true
   },
   "outputs": [],
   "source": []
  }
 ],
 "metadata": {
  "kernelspec": {
   "display_name": "Python 2",
   "language": "python",
   "name": "python2"
  },
  "language_info": {
   "codemirror_mode": {
    "name": "ipython",
    "version": 2
   },
   "file_extension": ".py",
   "mimetype": "text/x-python",
   "name": "python",
   "nbconvert_exporter": "python",
   "pygments_lexer": "ipython2",
   "version": "2.7.10"
  }
 },
 "nbformat": 4,
 "nbformat_minor": 0
}
