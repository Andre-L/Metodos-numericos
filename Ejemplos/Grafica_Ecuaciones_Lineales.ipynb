{
 "cells": [
  {
   "cell_type": "code",
   "execution_count": 1,
   "metadata": {
    "collapsed": false
   },
   "outputs": [],
   "source": [
    "import math\n",
    "import numpy as np\n",
    "import matplotlib.pyplot as ptl\n",
    "\n",
    "def graf():\n",
    "    ptl.title(\"Funcion\")    \n",
    "    x=np.arange(-2,6,0.1)\n",
    "    y=((-3*x)/2)+9\n",
    "    z=(x/2)+1\n",
    "    ptl.plot(x,y,'og')\n",
    "    ptl.plot(x,z,'oy')\n",
    "    ptl.grid(True)\n",
    "    ptl.show()\n",
    "    \n",
    "def graf1():\n",
    "    ptl.subplot(3,1,1)\n",
    "    ptl.title(\"Funcion a\")\n",
    "    x=np.arange(-2,6,0.1)\n",
    "    y=(x/2)+1\n",
    "    z=(1/2)+(x/2)\n",
    "    ptl.plot(x,y,'-og')\n",
    "    ptl.plot(x,z,'-oy')\n",
    "    ptl.grid(True)\n",
    "    \n",
    "    ptl.subplot(3,1,2)\n",
    "    ptl.title(\"Funcion b\")\n",
    "    x=np.arange(-2,6,0.1)\n",
    "    w=1+(x/2)\n",
    "    q=1+(x/2)\n",
    "    ptl.plot(x,w,'og')\n",
    "    ptl.plot(x,q,'-y')\n",
    "    ptl.grid(True)\n",
    "    \n",
    "    ptl.subplot(3,1,3)\n",
    "    ptl.title(\"Funcion c\")\n",
    "    x=np.arange(-2,6,0.1)\n",
    "    r=(1.1)+(2.3*x/5)\n",
    "    t=(1)+(x/2)\n",
    "    ptl.plot(x,r,'-g')\n",
    "    ptl.plot(x,t,'-y')\n",
    "    ptl.grid(True)\n",
    "    ptl.show()\n",
    "   \n",
    "    \n",
    "    \n",
    "graf1()    "
   ]
  },
  {
   "cell_type": "code",
   "execution_count": null,
   "metadata": {
    "collapsed": true
   },
   "outputs": [],
   "source": []
  }
 ],
 "metadata": {
  "kernelspec": {
   "display_name": "Python 2",
   "language": "python",
   "name": "python2"
  },
  "language_info": {
   "codemirror_mode": {
    "name": "ipython",
    "version": 2
   },
   "file_extension": ".py",
   "mimetype": "text/x-python",
   "name": "python",
   "nbconvert_exporter": "python",
   "pygments_lexer": "ipython2",
   "version": "2.7.10"
  }
 },
 "nbformat": 4,
 "nbformat_minor": 0
}
